{
 "cells": [
  {
   "cell_type": "markdown",
   "id": "dbba9c42-bffa-440d-a4e7-0d62ecb51dca",
   "metadata": {},
   "source": [
    "Stephen Coates Project 1 October 24, 2024"
   ]
  },
  {
   "cell_type": "markdown",
   "id": "97184e58-8c7c-4bfb-a69c-4c6f6de5eb71",
   "metadata": {},
   "source": [
    "Question 1 - Can we see anything significant in the sources of information using question 'Did you receive information about our computing course from any of the following sources?' 2023 BX-CE,\n",
    "\n",
    "Question 2 - Rank activities influencing BJ-BV,\n",
    "\n",
    "Question 3 - Top 5 motivations AY-BH,\n",
    "\n",
    "Question 4 - Top 5 responses for activities before prior to applying AH-AX,\n",
    "\n",
    "Question 5 - Report on success of two activitiesAX and AP,\n",
    "\n",
    "Question 6 - Compare race/ethnicity over time - demographic"
   ]
  },
  {
   "cell_type": "code",
   "execution_count": 2,
   "id": "8049db4f-87db-4cd4-8fe9-2510fd745fc5",
   "metadata": {
    "scrolled": true
   },
   "outputs": [
    {
     "data": {
      "text/plain": [
       "['In',\n",
       " 'Out',\n",
       " '_',\n",
       " '__',\n",
       " '___',\n",
       " '__builtin__',\n",
       " '__builtins__',\n",
       " '__doc__',\n",
       " '__loader__',\n",
       " '__name__',\n",
       " '__package__',\n",
       " '__session__',\n",
       " '__spec__',\n",
       " '_dh',\n",
       " '_i',\n",
       " '_i1',\n",
       " '_i2',\n",
       " '_ih',\n",
       " '_ii',\n",
       " '_iii',\n",
       " '_oh',\n",
       " 'exit',\n",
       " 'get_ipython',\n",
       " 'open',\n",
       " 'quit']"
      ]
     },
     "execution_count": 2,
     "metadata": {},
     "output_type": "execute_result"
    }
   ],
   "source": [
    "# just checking for leftover dataframes\n",
    "dir()"
   ]
  },
  {
   "cell_type": "code",
   "execution_count": null,
   "id": "d313dbef-be3a-42c3-bd34-a0ae1ccc6c2f",
   "metadata": {},
   "outputs": [],
   "source": [
    "# import required packages\n",
    "import pandas as pd\n",
    "import os\n",
    "# import numpy as np\n",
    "import matplotlib.pyplot as plt\n"
   ]
  },
  {
   "cell_type": "code",
   "execution_count": null,
   "id": "8d7b4bb1-2cf4-43c5-a1e7-d32abe45eff0",
   "metadata": {},
   "outputs": [],
   "source": [
    "# so i can see all comumns and rows\n",
    "pd.set_option('display.max_columns', None)\n",
    "pd.set_option('display.max_rows', None)"
   ]
  },
  {
   "cell_type": "code",
   "execution_count": null,
   "id": "15d4a197-1d2e-4036-a24e-a175c73efd84",
   "metadata": {},
   "outputs": [],
   "source": [
    "# import datasets into separate dataframes as columns don't match\n",
    "dfQu_2024 = pd.read_csv(\"Non-Majors Survey Results - Fall 2024.csv\")\n",
    "dfQu_2023 = pd.read_csv(\"Non-Majors Survey Results - Fall 2023.csv\")\n",
    "dfQu_2022 = pd.read_csv(\"Non-Majors Survey Results - Fall 2022.csv\")\n",
    "dfQu_2021 = pd.read_csv(\"Non-Majors Survey Results - Fall 2021.csv\")\n",
    "dfQu_2020 = pd.read_csv(\"Non-Majors Survey Results - Fall 2020.csv\")"
   ]
  },
  {
   "cell_type": "code",
   "execution_count": null,
   "id": "32b8fd34-88d4-461f-b255-4fcc95272cd6",
   "metadata": {},
   "outputs": [],
   "source": [
    "# Going to answer questions 1, 3, 4 with just 2024 data based on advice from tutor\n",
    "dfQu_2024.columns"
   ]
  },
  {
   "cell_type": "code",
   "execution_count": null,
   "id": "c7989868-d532-4650-989f-62460d7ade81",
   "metadata": {},
   "outputs": [],
   "source": [
    "dfQu_2024.describe\n",
    "# not too useful at this stage"
   ]
  },
  {
   "cell_type": "code",
   "execution_count": null,
   "id": "be5184a8-5307-44a1-a3f0-05d71a66846f",
   "metadata": {},
   "outputs": [],
   "source": [
    "dfQu_2024.info()"
   ]
  },
  {
   "cell_type": "code",
   "execution_count": null,
   "id": "7a614d0d-eff6-4672-a3d5-37d2ba7cfcb0",
   "metadata": {},
   "outputs": [],
   "source": [
    "dfQu_2024.shape"
   ]
  },
  {
   "cell_type": "code",
   "execution_count": null,
   "id": "47bd1d6f-648a-4598-b749-e1bbb72771cb",
   "metadata": {},
   "outputs": [],
   "source": [
    "# fix age heading\n",
    "dfQu_2024.rename(columns= { 'Age ':'Age'}, inplace=True)\n",
    "dfQu_2023.rename(columns= { 'Age ':'Age'}, inplace=True)\n",
    "dfQu_2022.rename(columns= { 'Age ':'Age'}, inplace=True)\n",
    "dfQu_2020.rename(columns= { 'Age ':'Age'}, inplace=True)\n",
    "# probably don't need to do this here anymore as I changed the way I extracted the columns and could have renamed at the same time I rename the question\n",
    "# and answer columns"
   ]
  },
  {
   "cell_type": "markdown",
   "id": "1dbcf270-e77d-471f-a63e-36986b23068d",
   "metadata": {},
   "source": [
    "Create separate dataframes for each question by extracting columns and then renaming the remaining columns\n",
    "\n",
    "Question 1"
   ]
  },
  {
   "cell_type": "code",
   "execution_count": null,
   "id": "bda08178-f9d1-4576-bd68-0fe26f5c7fa6",
   "metadata": {},
   "outputs": [],
   "source": [
    "dfQu1_2024a = dfQu_2024[['Which course are you currently enrolled in?', 'What degree program are you currently enrolled in?',\n",
    "       'What motivated you to seek a computing class at CCM? [It’s a required class for the degree I’m seeking]',\n",
    "       'Did you receive information about our computing course from any of the following sources? [High school guidance counselor]',\n",
    "       'Did you receive information about our computing course from any of the following sources? [CCM Information Technologies Website]',\n",
    "       'Did you receive information about our computing course from any of the following sources? [CCM Admissions]',\n",
    "       'Did you receive information about our computing course from any of the following sources? [CCM advisor/counselor]',\n",
    "       'Did you receive information about our computing course from any of the following sources? [Employer]',\n",
    "       'Did you receive information about our computing course from any of the following sources? [Other]',\n",
    "       'On a scale of 1 to 5, with 1 being not at all interested and 5 being extremely interested, how interested are you taking more courses in Computer Science, Information Technology or Game Development?', \n",
    "                'Gender', 'Race/ethnicity', 'Age']]"
   ]
  },
  {
   "cell_type": "code",
   "execution_count": null,
   "id": "822e859c-d98a-413f-ac9c-cf2f09e006fe",
   "metadata": {},
   "outputs": [],
   "source": [
    "dfQu1_2024a.columns = ['current_class', 'degree_program', 'required_class',  \n",
    "                                'recd_hs_counselor', 'recd_CCM_info_tech_website', 'recd_CCM_admissions',\n",
    "                                'recd_CCM_advisor', 'recd_employer',\n",
    "                                'recd_other', 'cmp_interest',\n",
    "                                'gender', 'race', 'age']"
   ]
  },
  {
   "cell_type": "code",
   "execution_count": null,
   "id": "e19c7f08-1986-408f-af77-866819be9761",
   "metadata": {},
   "outputs": [],
   "source": [
    "dfQu1_2024a.head()"
   ]
  },
  {
   "cell_type": "markdown",
   "id": "d73d3995-61b4-45bc-b2fe-c32f37b54b35",
   "metadata": {},
   "source": [
    "Question 3"
   ]
  },
  {
   "cell_type": "code",
   "execution_count": null,
   "id": "463de13e-992c-4def-83d4-3c0c9a3f1c18",
   "metadata": {},
   "outputs": [],
   "source": [
    "dfQu3_2024a = dfQu_2024[['Which course are you currently enrolled in?', 'What degree program are you currently enrolled in?',\n",
    "       'What motivated you to seek a computing class at CCM? [It’s a required class for the degree I’m seeking]',\n",
    "       'What motivated you to seek a computing class at CCM? [To keep current in computing skills]',\n",
    "       'What motivated you to seek a computing class at CCM? [Career Advancement]',\n",
    "       'What motivated you to seek a computing class at CCM? [Career Change]',\n",
    "       'What motivated you to seek a computing class at CCM? [Professional Development]',\n",
    "       'What motivated you to seek a computing class at CCM? [Job Displacement]',\n",
    "       'What motivated you to seek a computing class at CCM? [Relocation]',\n",
    "       'What motivated you to seek a computing class at CCM? [IT Industry Certifications]',\n",
    "       'What motivated you to seek a computing class at CCM? [Financial]',\n",
    "       'What motivated you to seek a computing class at CCM? [Personal Enrichment]',\n",
    "       'What motivated you to seek a computing class at CCM? [Curiosity]',\n",
    "       'On a scale of 1 to 5, with 1 being not at all interested and 5 being extremely interested, how interested are you taking more courses in Computer Science, Information Technology or Game Development?', \n",
    "                'Gender', 'Race/ethnicity', 'Age']]"
   ]
  },
  {
   "cell_type": "code",
   "execution_count": null,
   "id": "f213b1e6-71ae-4d8f-bf59-8da2659646c6",
   "metadata": {},
   "outputs": [],
   "source": [
    "dfQu3_2024a.columns = ['current_class', 'degree_program', 'required_class',  \n",
    "                                'motive_keep_current_skills', 'motive_career_advancement', 'motive_career_change',\n",
    "                                'motive_prof_development', 'motive_job_displacement','motive_relocation', 'motive_IT_certifications', 'motive_financial',\n",
    "                               'motive_personal_enrichment', 'motive_curiosity',\n",
    "                               'cmp_interest', 'gender', 'race', 'age']"
   ]
  },
  {
   "cell_type": "code",
   "execution_count": null,
   "id": "6f2d1217-ff4c-4dae-a102-a4fc7972f54c",
   "metadata": {},
   "outputs": [],
   "source": [
    "dfQu3_2024a.head()"
   ]
  },
  {
   "cell_type": "markdown",
   "id": "8fb8f499-4e7f-4305-bdcb-60a1f356a19d",
   "metadata": {},
   "source": [
    "Question 4"
   ]
  },
  {
   "cell_type": "code",
   "execution_count": null,
   "id": "5615595c-e543-424b-af83-c3b99c6327ca",
   "metadata": {},
   "outputs": [],
   "source": [
    "dfQu4_2024a = dfQu_2024[['Which course are you currently enrolled in?', 'What degree program are you currently enrolled in?',\n",
    "       'What motivated you to seek a computing class at CCM? [It’s a required class for the degree I’m seeking]',\n",
    "        'Prior to applying to college, did you participate in any of the following events or activities at the County College of Morris and/or with the Department of Information Technologies, if at all? [Open House]',\n",
    "       'Prior to applying to college, did you participate in any of the following events or activities at the County College of Morris and/or with the Department of Information Technologies, if at all? [Instant Decision Day]',\n",
    "       'Prior to applying to college, did you participate in any of the following events or activities at the County College of Morris and/or with the Department of Information Technologies, if at all? [On-Campus Information Session]',\n",
    "       \"Prior to applying to college, did you participate in any of the following events or activities at the County College of Morris and/or with the Department of Information Technologies, if at all? [TItan's Tuesday Virtual Information Session]\",\n",
    "       'Prior to applying to college, did you participate in any of the following events or activities at the County College of Morris and/or with the Department of Information Technologies, if at all? [Women Who Dare]',\n",
    "       'Prior to applying to college, did you participate in any of the following events or activities at the County College of Morris and/or with the Department of Information Technologies, if at all? [Regional College Fair]',\n",
    "       'On a scale of 1 to 5, with 1 being not at all interested and 5 being extremely interested, how interested are you taking more courses in Computer Science, Information Technology or Game Development?', \n",
    "                'Gender', 'Race/ethnicity', 'Age']]"
   ]
  },
  {
   "cell_type": "code",
   "execution_count": null,
   "id": "9039a4c4-2156-49cd-b7ea-8bda46929765",
   "metadata": {},
   "outputs": [],
   "source": [
    "dfQu4_2024a.columns = ['current_class', 'degree_program', 'required_class',  \n",
    "                                'prior_acty_open_house', 'prior_acty_instant_decision_day', 'prior_acty_on-campus_info_session',\n",
    "                                'prior_acty_Titans_Tuesday_virtual', 'prior_acty_Women_Who_Dare','prior_acty_regional_college_fair',\n",
    "                               'cmp_interest', 'gender', 'race', 'age']"
   ]
  },
  {
   "cell_type": "code",
   "execution_count": null,
   "id": "fbae696d-b8b1-4d0f-b6d4-c819b30d6dc8",
   "metadata": {},
   "outputs": [],
   "source": [
    "dfQu4_2024a.head()"
   ]
  },
  {
   "cell_type": "markdown",
   "id": "a9c202a8-e3b0-46ae-86a6-f6a87e0bc8f6",
   "metadata": {},
   "source": [
    "Question 6"
   ]
  },
  {
   "cell_type": "code",
   "execution_count": null,
   "id": "3883280e-cbea-4fa1-bde2-6d6255cf1ef7",
   "metadata": {},
   "outputs": [],
   "source": [
    "# dfQu6_2024a = dfQu6_2024.drop(columns=list(df2024)[2:52]+list(df2024)[53:59]+list(df2024)[60:68])\n",
    "\n",
    "dfQu6_2024a = dfQu_2024[['Timestamp', 'Which course are you currently enrolled in?', \n",
    "        'What degree program are you currently enrolled in?',\n",
    "       'On a scale of 1 to 5, with 1 being not at all interested and 5 being extremely interested, how interested are you taking more courses in Computer Science, Information Technology or Game Development?',\n",
    "       'Gender', 'Race/ethnicity', 'Age']]"
   ]
  },
  {
   "cell_type": "code",
   "execution_count": null,
   "id": "8b968c69-e49e-485e-ad4a-e4f7455bcd15",
   "metadata": {},
   "outputs": [],
   "source": [
    "dfQu6_2024a.columns = ['year', 'current_class', 'degree_program', 'cmp_interest',\n",
    "                               'gender', 'race', 'age']"
   ]
  },
  {
   "cell_type": "code",
   "execution_count": null,
   "id": "6af0b3ad-c60d-4788-87a4-c35c34e8c854",
   "metadata": {},
   "outputs": [],
   "source": [
    "#dfQu6_2023a = dfQu6_2023.drop(columns=list(df2023)[2:74]+list(df2023)[75:84]+list(df2023)[85:93])\n",
    "\n",
    "dfQu6_2023a = dfQu_2023[['Timestamp', 'Which course are you currently enrolled in?', \n",
    "        'What degree program are you currently enrolled in?',\n",
    "       'On a scale of 1 to 5, with 1 being not at all interested and 5 being extremely interested, how interested are you taking more courses in Computer Science, Information Technology or Game Development?',\n",
    "       'Gender', 'Race/ethnicity', 'Age']]"
   ]
  },
  {
   "cell_type": "code",
   "execution_count": null,
   "id": "169707e8-35ac-4a5a-a523-ecda37ed5942",
   "metadata": {},
   "outputs": [],
   "source": [
    "dfQu6_2023a.columns = ['year', 'current_class', 'degree_program', 'cmp_interest',\n",
    "                               'gender', 'race', 'age']"
   ]
  },
  {
   "cell_type": "code",
   "execution_count": null,
   "id": "acfe3037-2e61-489c-8d61-84be9cda0079",
   "metadata": {},
   "outputs": [],
   "source": [
    "# dfQu6_2022a = dfQu6_2022.drop(columns=list(df2022)[2:74]+list(df2022)[75:84]+list(df2022)[85:93])\n",
    "\n",
    "dfQu6_2022a = dfQu_2022[['Timestamp', 'Which course are you currently enrolled in?', \n",
    "        'What degree program are you currently enrolled in?',\n",
    "               'On a scale of 1 to 5, with 1 being not at all interested and 5 being extremely interested, how interested are you taking more courses in Computer Science, Information Technology or Game Development?',\n",
    "       'Gender', 'Race/ethnicity', 'Age']]"
   ]
  },
  {
   "cell_type": "code",
   "execution_count": null,
   "id": "0493b80f-2be3-4ca3-8b9e-b9d42fabc331",
   "metadata": {},
   "outputs": [],
   "source": [
    "dfQu6_2022a.columns = ['year', 'current_class', 'degree_program', 'cmp_interest',\n",
    "                               'gender', 'race', 'age']"
   ]
  },
  {
   "cell_type": "code",
   "execution_count": null,
   "id": "8123d9f0-f7cf-49a2-a6f1-1ecfd419d332",
   "metadata": {},
   "outputs": [],
   "source": [
    "# dfQu6_2021a = dfQu6_2021.drop(columns=list(df2021)[2:52]+list(df2021)[53:59]+list(df2021)[60:69])\n",
    "\n",
    "dfQu6_2021a = dfQu_2021[['Timestamp', 'Which course are you currently enrolled in?', \n",
    "        'What degree program are you currently enrolled in?',\n",
    "           'On a scale of 1 to 5, with 1 being not at all interested and 5 being extremely interested, how interested are you taking more courses in Computer Science, Information Technology or Game Development?',\n",
    "       'Gender', 'Race/ethnicity', 'Age']]"
   ]
  },
  {
   "cell_type": "code",
   "execution_count": null,
   "id": "814f2562-64fb-4848-aff6-0f5f8fcdbe40",
   "metadata": {},
   "outputs": [],
   "source": [
    "dfQu6_2021a.columns = ['year', 'current_class', 'degree_program', 'cmp_interest',\n",
    "                               'gender', 'race', 'age']"
   ]
  },
  {
   "cell_type": "code",
   "execution_count": null,
   "id": "ab4a5499-27cc-4a3b-bc51-ef8126e68818",
   "metadata": {},
   "outputs": [],
   "source": [
    "# dfQu6_2020a = dfQu6_2020.drop(columns=list(df2020)[2:32]+list(df2020)[33:39]+list(df2020)[40:41])\n",
    "\n",
    "dfQu6_2020a = dfQu_2020[['Timestamp', 'Which course are you currently enrolled in?', \n",
    "        'What degree program are you currently enrolled in?',\n",
    "        'On a scale of 1 to 5, with 1 being not at all interested and 5 being extremely interested, how interested are you taking more courses in Computer Science, Information Technology or Game Development?',\n",
    "       'Gender', 'Race/ethnicity', 'Age']]"
   ]
  },
  {
   "cell_type": "code",
   "execution_count": null,
   "id": "d8c57dab-e54b-4bc1-a9f3-1a7810ece449",
   "metadata": {},
   "outputs": [],
   "source": [
    "dfQu6_2020a.columns = ['year', 'current_class', 'degree_program', 'cmp_interest',\n",
    "                               'gender', 'race', 'age']"
   ]
  },
  {
   "cell_type": "markdown",
   "id": "8f7527df-663d-43a2-aabf-1e8ac30cceb1",
   "metadata": {},
   "source": [
    "Concatenate and then clean up gender race fields"
   ]
  },
  {
   "cell_type": "code",
   "execution_count": null,
   "id": "b966fcc6-b619-4ceb-8b14-c692696606b1",
   "metadata": {},
   "outputs": [],
   "source": [
    "dfQu6_all = pd.concat([dfQu6_2024a, dfQu6_2023a, dfQu6_2022a, dfQu6_2021a, dfQu6_2020a], axis=0)"
   ]
  },
  {
   "cell_type": "code",
   "execution_count": null,
   "id": "d047ab7d-afc4-410c-aa0b-c01170717cbe",
   "metadata": {},
   "outputs": [],
   "source": [
    "dfQu6_all.reset_index(drop=True,inplace=True)"
   ]
  },
  {
   "cell_type": "code",
   "execution_count": null,
   "id": "cff2103c-7ef0-4c7d-ac52-f1ad8804a0ac",
   "metadata": {},
   "outputs": [],
   "source": [
    "dfQu6_all.sample(30)"
   ]
  },
  {
   "cell_type": "markdown",
   "id": "e50e507e-00d2-4bfa-886f-bd9327c7af76",
   "metadata": {},
   "source": [
    "Convert timestamp to date and then to year"
   ]
  },
  {
   "cell_type": "code",
   "execution_count": null,
   "id": "3382dafd-8992-4627-9c1e-be2fc027691c",
   "metadata": {},
   "outputs": [],
   "source": [
    "dfQu6_all['year'] = pd.to_datetime(dfQu6_all.year, format='mixed')"
   ]
  },
  {
   "cell_type": "code",
   "execution_count": null,
   "id": "643a5e88-0923-4f77-ba8f-298ddb454e8d",
   "metadata": {},
   "outputs": [],
   "source": [
    "dfQu6_all.year = dfQu6_all.year.dt.year\n",
    "dfQu6_all.year = dfQu6_all.year.apply(str)"
   ]
  },
  {
   "cell_type": "code",
   "execution_count": null,
   "id": "111bf5ec-55bf-4479-8d99-8e7783da1d3c",
   "metadata": {},
   "outputs": [],
   "source": [
    "# substring the class name\n",
    "dfQu6_all['current_class'] = dfQu6_all['current_class'].str[:7]"
   ]
  },
  {
   "cell_type": "code",
   "execution_count": null,
   "id": "055e79b0-b1bf-449a-af48-34b6d7c2409b",
   "metadata": {},
   "outputs": [],
   "source": [
    "dfQu6_all.sample(30)"
   ]
  },
  {
   "cell_type": "markdown",
   "id": "8a6eaf66-39d9-48aa-afc8-c639cd339e2a",
   "metadata": {},
   "source": [
    "Back to question 1,3,4 files - change yes to 1 and no, dont recall and not sure to 0"
   ]
  },
  {
   "cell_type": "code",
   "execution_count": null,
   "id": "d7ca7bf9-6fe2-49c6-8286-b78525c4a826",
   "metadata": {},
   "outputs": [],
   "source": [
    "# change all in dataframe\n",
    "\n",
    "dfQu1_2024a = dfQu1_2024a.replace({'Yes': 1, 'No': 0, \"Don't Recall\":0, \"Don't recall\":0, 'Not Sure':0, '1': 1, '0': 0})\n",
    "dfQu3_2024a = dfQu3_2024a.replace({'Yes': 1, 'No': 0, \"Don't Recall\":0, \"Don't recall\":0, 'Not Sure':0,'1': 1, '0': 0})\n",
    "dfQu4_2024a = dfQu4_2024a.replace({'Yes': 1, 'No': 0, \"Don't Recall\":0, \"Don't recall\":0, 'Not Sure':0,'1': 1, '0': 0})"
   ]
  },
  {
   "cell_type": "code",
   "execution_count": null,
   "id": "0618583b-5e29-495a-b1d2-56a23980ce12",
   "metadata": {},
   "outputs": [],
   "source": [
    "dfQu1_2024a.fillna(0, inplace=True)\n",
    "dfQu3_2024a.fillna(0, inplace=True)\n",
    "dfQu4_2024a.fillna(0, inplace=True)"
   ]
  },
  {
   "cell_type": "markdown",
   "id": "63fe6b98-cfdc-49e6-9461-6904f94ad331",
   "metadata": {},
   "source": [
    "Leaving this here just in case it might be useful to have a cleaner Race/ethnicity file and I do need for Qu6 demographics"
   ]
  },
  {
   "cell_type": "code",
   "execution_count": null,
   "id": "179e098e-cdc1-4f41-899d-b78c5b94a621",
   "metadata": {},
   "outputs": [],
   "source": [
    "# changing name to save time editing again - can you make a global replace in a cell \"all\" for \"2024a\"?\n",
    "dfQu1_all = dfQu1_2024a.copy()\n",
    "dfQu3_all = dfQu3_2024a.copy()\n",
    "dfQu4_all = dfQu4_2024a.copy()"
   ]
  },
  {
   "cell_type": "markdown",
   "id": "31358bfc-73d5-4855-bfc6-5ff612fd0cc3",
   "metadata": {},
   "source": [
    "Changing all selections with 2 or more races and changing to multi-racial.\n"
   ]
  },
  {
   "cell_type": "code",
   "execution_count": null,
   "id": "447b6613-3dc6-449f-86f6-16454940a938",
   "metadata": {},
   "outputs": [],
   "source": [
    "dfQu1_all.replace(to_replace=['Hispanic or Latino;White/Caucasian'],value='Multi-Racial', inplace=True)\n",
    "dfQu1_all.replace(to_replace=['Hispanic or Latino;Multi-Racial'],value='Multi-Racial', inplace=True)\n",
    "dfQu1_all.replace(to_replace=['Asian;White/Caucasian'],value='Multi-Racial', inplace=True)\n",
    "dfQu1_all.replace(to_replace=['Hispanic or Latino;Black/African American'],value='Multi-Racial', inplace=True)\n",
    "dfQu1_all.replace(to_replace=['Hispanic or Latino;White/Caucasian;Multi-Racial'],value='Multi-Racial', inplace=True)\n",
    "dfQu1_all.replace(to_replace=['Hispanic or Latino;Multi-Racial '],value='Multi-Racial', inplace=True)\n",
    "dfQu1_all.replace(to_replace=['Black/African American;White/Caucasian;Multi-Racial'],value='Multi-Racial', inplace=True)\n",
    "dfQu1_all.replace(to_replace=['American Indian/Native American/Alaska Native;White/Caucasian'],value='Multi-Racial', inplace=True)\n",
    "dfQu1_all.replace(to_replace=['Asian;Black/African American;White/Caucasian;Multi-Racial'],value='Multi-Racial', inplace=True)\n",
    "dfQu1_all.replace(to_replace=['Asian;Multi-Racial'],value='Multi-Racial', inplace=True)\n",
    "dfQu1_all.replace(to_replace=['American Indian/Native American/Alaska Native'],value='Multi-Racial', inplace=True)\n",
    "dfQu1_all.replace(to_replace=['Hispanic or Latino;Asian'],value='Multi-Racial', inplace=True)\n",
    "dfQu1_all.replace(to_replace=['American Indian/Native American/Alaska Native;Asian'],value='Multi-Racial', inplace=True)\n",
    "dfQu1_all.replace(to_replace=['Hispanic or Latino;Black/African American;White/Caucasian;Multi-Racial'],value='Multi-Racial', inplace=True)\n",
    "dfQu1_all.replace(to_replace=['Hispanic or Latino;Asian;White/Caucasian'],value='Multi-Racial', inplace=True)\n",
    "dfQu1_all.replace(to_replace=['Asian;White/Caucasian;Multi-Racial'],value='Multi-Racial', inplace=True)\n",
    "dfQu1_all.replace(to_replace=['Black/African American;White/Caucasian'],value='Multi-Racial', inplace=True)\n",
    "dfQu1_all.replace(to_replace=['Hispanic or Latino;Asian;White/Caucasian;Multi-Racial'],value='Multi-Racial', inplace=True)\n",
    "dfQu1_all.replace(to_replace=['Asian;Black/African American'],value='Multi-Racial', inplace=True)\n",
    "dfQu1_all.replace(to_replace=['Black/African American;White/Caucasian'],value='Multi-Racial', inplace=True)\n",
    "dfQu1_all.replace(to_replace=['White/Caucasian;Multi-Racial'],value='Multi-Racial', inplace=True)"
   ]
  },
  {
   "cell_type": "code",
   "execution_count": null,
   "id": "241c0dc4-83e5-4e8a-8791-a7e24cd66df9",
   "metadata": {},
   "outputs": [],
   "source": [
    "dfQu3_all.replace(to_replace=['Hispanic or Latino;White/Caucasian'],value='Multi-Racial', inplace=True)\n",
    "dfQu3_all.replace(to_replace=['Hispanic or Latino;Multi-Racial'],value='Multi-Racial', inplace=True)\n",
    "dfQu3_all.replace(to_replace=['Asian;White/Caucasian'],value='Multi-Racial', inplace=True)\n",
    "dfQu3_all.replace(to_replace=['Hispanic or Latino;Black/African American'],value='Multi-Racial', inplace=True)\n",
    "dfQu3_all.replace(to_replace=['Hispanic or Latino;White/Caucasian;Multi-Racial'],value='Multi-Racial', inplace=True)\n",
    "dfQu3_all.replace(to_replace=['Hispanic or Latino;Multi-Racial '],value='Multi-Racial', inplace=True)\n",
    "dfQu3_all.replace(to_replace=['Black/African American;White/Caucasian;Multi-Racial'],value='Multi-Racial', inplace=True)\n",
    "dfQu3_all.replace(to_replace=['American Indian/Native American/Alaska Native;White/Caucasian'],value='Multi-Racial', inplace=True)\n",
    "dfQu3_all.replace(to_replace=['Asian;Black/African American;White/Caucasian;Multi-Racial'],value='Multi-Racial', inplace=True)\n",
    "dfQu3_all.replace(to_replace=['Asian;Multi-Racial'],value='Multi-Racial', inplace=True)\n",
    "dfQu3_all.replace(to_replace=['American Indian/Native American/Alaska Native'],value='Multi-Racial', inplace=True)\n",
    "dfQu3_all.replace(to_replace=['Hispanic or Latino;Asian'],value='Multi-Racial', inplace=True)\n",
    "dfQu3_all.replace(to_replace=['American Indian/Native American/Alaska Native;Asian'],value='Multi-Racial', inplace=True)\n",
    "dfQu3_all.replace(to_replace=['Hispanic or Latino;Black/African American;White/Caucasian;Multi-Racial'],value='Multi-Racial', inplace=True)\n",
    "dfQu3_all.replace(to_replace=['Hispanic or Latino;Asian;White/Caucasian'],value='Multi-Racial', inplace=True)\n",
    "dfQu3_all.replace(to_replace=['Asian;White/Caucasian;Multi-Racial'],value='Multi-Racial', inplace=True)\n",
    "dfQu3_all.replace(to_replace=['Black/African American;White/Caucasian'],value='Multi-Racial', inplace=True)\n",
    "dfQu3_all.replace(to_replace=['Hispanic or Latino;Asian;White/Caucasian;Multi-Racial'],value='Multi-Racial', inplace=True)\n",
    "dfQu3_all.replace(to_replace=['Asian;Black/African American'],value='Multi-Racial', inplace=True)\n",
    "dfQu3_all.replace(to_replace=['Black/African American;White/Caucasian'],value='Multi-Racial', inplace=True)\n",
    "dfQu3_all.replace(to_replace=['White/Caucasian;Multi-Racial'],value='Multi-Racial', inplace=True)"
   ]
  },
  {
   "cell_type": "code",
   "execution_count": null,
   "id": "542aa556-c84a-4794-99a1-48c46658ef7b",
   "metadata": {},
   "outputs": [],
   "source": [
    "dfQu4_all.replace(to_replace=['Hispanic or Latino;White/Caucasian'],value='Multi-Racial', inplace=True)\n",
    "dfQu4_all.replace(to_replace=['Hispanic or Latino;Multi-Racial'],value='Multi-Racial', inplace=True)\n",
    "dfQu4_all.replace(to_replace=['Asian;White/Caucasian'],value='Multi-Racial', inplace=True)\n",
    "dfQu4_all.replace(to_replace=['Hispanic or Latino;Black/African American'],value='Multi-Racial', inplace=True)\n",
    "dfQu4_all.replace(to_replace=['Hispanic or Latino;White/Caucasian;Multi-Racial'],value='Multi-Racial', inplace=True)\n",
    "dfQu4_all.replace(to_replace=['Hispanic or Latino;Multi-Racial '],value='Multi-Racial', inplace=True)\n",
    "dfQu4_all.replace(to_replace=['Black/African American;White/Caucasian;Multi-Racial'],value='Multi-Racial', inplace=True)\n",
    "dfQu4_all.replace(to_replace=['American Indian/Native American/Alaska Native;White/Caucasian'],value='Multi-Racial', inplace=True)\n",
    "dfQu4_all.replace(to_replace=['Asian;Black/African American;White/Caucasian;Multi-Racial'],value='Multi-Racial', inplace=True)\n",
    "dfQu4_all.replace(to_replace=['Asian;Multi-Racial'],value='Multi-Racial', inplace=True)\n",
    "dfQu4_all.replace(to_replace=['American Indian/Native American/Alaska Native'],value='Multi-Racial', inplace=True)\n",
    "dfQu4_all.replace(to_replace=['Hispanic or Latino;Asian'],value='Multi-Racial', inplace=True)\n",
    "dfQu4_all.replace(to_replace=['American Indian/Native American/Alaska Native;Asian'],value='Multi-Racial', inplace=True)\n",
    "dfQu4_all.replace(to_replace=['Hispanic or Latino;Black/African American;White/Caucasian;Multi-Racial'],value='Multi-Racial', inplace=True)\n",
    "dfQu4_all.replace(to_replace=['Hispanic or Latino;Asian;White/Caucasian'],value='Multi-Racial', inplace=True)\n",
    "dfQu4_all.replace(to_replace=['Asian;White/Caucasian;Multi-Racial'],value='Multi-Racial', inplace=True)\n",
    "dfQu4_all.replace(to_replace=['Black/African American;White/Caucasian'],value='Multi-Racial', inplace=True)\n",
    "dfQu4_all.replace(to_replace=['Hispanic or Latino;Asian;White/Caucasian;Multi-Racial'],value='Multi-Racial', inplace=True)\n",
    "dfQu4_all.replace(to_replace=['Asian;Black/African American'],value='Multi-Racial', inplace=True)\n",
    "dfQu4_all.replace(to_replace=['Black/African American;White/Caucasian'],value='Multi-Racial', inplace=True)\n",
    "dfQu4_all.replace(to_replace=['White/Caucasian;Multi-Racial'],value='Multi-Racial', inplace=True)"
   ]
  },
  {
   "cell_type": "code",
   "execution_count": null,
   "id": "5386f02b-ad25-4c02-a009-59ff83634b1e",
   "metadata": {},
   "outputs": [],
   "source": [
    "dfQu6_all.replace(to_replace=['Hispanic or Latino;White/Caucasian'],value='Multi-Racial', inplace=True)\n",
    "dfQu6_all.replace(to_replace=['Hispanic or Latino;Multi-Racial'],value='Multi-Racial', inplace=True)\n",
    "dfQu6_all.replace(to_replace=['Asian;White/Caucasian'],value='Multi-Racial', inplace=True)\n",
    "dfQu6_all.replace(to_replace=['Hispanic or Latino;Black/African American'],value='Multi-Racial', inplace=True)\n",
    "dfQu6_all.replace(to_replace=['Hispanic or Latino;White/Caucasian;Multi-Racial'],value='Multi-Racial', inplace=True)\n",
    "dfQu6_all.replace(to_replace=['Hispanic or Latino;Multi-Racial '],value='Multi-Racial', inplace=True)\n",
    "dfQu6_all.replace(to_replace=['Black/African American;White/Caucasian;Multi-Racial'],value='Multi-Racial', inplace=True)\n",
    "dfQu6_all.replace(to_replace=['American Indian/Native American/Alaska Native;White/Caucasian'],value='Multi-Racial', inplace=True)\n",
    "dfQu6_all.replace(to_replace=['Asian;Black/African American;White/Caucasian;Multi-Racial'],value='Multi-Racial', inplace=True)\n",
    "dfQu6_all.replace(to_replace=['Asian;Multi-Racial'],value='Multi-Racial', inplace=True)\n",
    "dfQu6_all.replace(to_replace=['American Indian/Native American/Alaska Native'],value='Multi-Racial', inplace=True)\n",
    "dfQu6_all.replace(to_replace=['Hispanic or Latino;Asian'],value='Multi-Racial', inplace=True)\n",
    "dfQu6_all.replace(to_replace=['American Indian/Native American/Alaska Native;Asian'],value='Multi-Racial', inplace=True)\n",
    "dfQu6_all.replace(to_replace=['Hispanic or Latino;Black/African American;White/Caucasian;Multi-Racial'],value='Multi-Racial', inplace=True)\n",
    "dfQu6_all.replace(to_replace=['Hispanic or Latino;Asian;White/Caucasian'],value='Multi-Racial', inplace=True)\n",
    "dfQu6_all.replace(to_replace=['Asian;White/Caucasian;Multi-Racial'],value='Multi-Racial', inplace=True)\n",
    "dfQu6_all.replace(to_replace=['Black/African American;White/Caucasian'],value='Multi-Racial', inplace=True)\n",
    "dfQu6_all.replace(to_replace=['Hispanic or Latino;Asian;White/Caucasian;Multi-Racial'],value='Multi-Racial', inplace=True)\n",
    "dfQu6_all.replace(to_replace=['Asian;Black/African American'],value='Multi-Racial', inplace=True)\n",
    "dfQu6_all.replace(to_replace=['Black/African American;White/Caucasian'],value='Multi-Racial', inplace=True)\n",
    "dfQu6_all.replace(to_replace=['White/Caucasian;Multi-Racial'],value='Multi-Racial', inplace=True)"
   ]
  },
  {
   "cell_type": "code",
   "execution_count": null,
   "id": "77d41099-1f1c-4faa-8b8a-8cd540ace8a7",
   "metadata": {},
   "outputs": [],
   "source": [
    "dfQu4_all['race'].value_counts()"
   ]
  },
  {
   "cell_type": "code",
   "execution_count": null,
   "id": "c41adfd0-c362-43e9-a057-a9305da48f3f",
   "metadata": {},
   "outputs": [],
   "source": [
    "dfQu4_all[\"race\"].value_counts(normalize=True)"
   ]
  },
  {
   "cell_type": "code",
   "execution_count": null,
   "id": "4721f648-87c3-47ec-ad44-8f78beb26dc4",
   "metadata": {},
   "outputs": [],
   "source": [
    "dfQu4_all['gender'].value_counts()"
   ]
  },
  {
   "cell_type": "code",
   "execution_count": null,
   "id": "90e6588a-ee82-4149-ac57-df5400d16738",
   "metadata": {},
   "outputs": [],
   "source": [
    "dfQu4_all['age'].value_counts()"
   ]
  },
  {
   "cell_type": "markdown",
   "id": "66bb6be2-e1f3-4d21-8b00-546192fa8f71",
   "metadata": {},
   "source": [
    "I started to try and rationalize the degree programs but not how much utility\n",
    "\n",
    "Therefore the next cell identifies the degree programs with more than 20 and consolidate the rest into other"
   ]
  },
  {
   "cell_type": "code",
   "execution_count": null,
   "id": "a67a5e88-9383-4424-b31e-6f19dcfb7410",
   "metadata": {},
   "outputs": [],
   "source": [
    "dfQu6_all.replace(to_replace=['Biology - Environmental Track'],value='Biology', inplace=True)\n",
    "dfQu6_all.replace(to_replace=['biology'],value='Biology', inplace=True)\n",
    "dfQu6_all.replace(to_replace=['child psychology'],value='Psychology Related', inplace=True)\n",
    "dfQu6_all.replace(to_replace=['Thinking of Biology and Engineering.'],value='Biology', inplace=True)\n",
    "dfQu6_all.replace(to_replace=['Fire Science Technology'],value='Technology Related', inplace=True)\n",
    "dfQu6_all.replace(to_replace=['analyst'],value='Technology Related', inplace=True)\n",
    "dfQu6_all.replace(to_replace=['Sharetime Criminal Justice Program'],value='Criminal Justice', inplace=True)\n",
    "dfQu6_all.replace(to_replace=['History Education'],value='Social Sciences', inplace=True)\n",
    "dfQu6_all.replace(to_replace=['Business Administrative'],value='Art Technology Related', inplace=True)\n",
    "dfQu6_all.replace(to_replace=['Business'],value='Art Technology Related', inplace=True)\n",
    "dfQu6_all.replace(to_replace=['Teaching Mathematics'],value='Math Related', inplace=True)\n",
    "dfQu6_all.replace(to_replace=['Mathematics and Financial'],value='Math Related', inplace=True)\n",
    "dfQu6_all.replace(to_replace=['Mathematics'],value='Math Related', inplace=True)\n",
    "dfQu6_all.replace(to_replace=['Computer Information Systems'],value='Computer Science', inplace=True)\n",
    "\n",
    "dfQu6_all.replace(to_replace=['Early Childhood Education'],value='Psychology Related', inplace=True)\n",
    "dfQu6_all.replace(to_replace=['Early Childhood Education;Child and Family Studies'],value='Psychology Related', inplace=True)\n",
    "dfQu6_all.replace(to_replace=['Psychology'],value='Psychology Related', inplace=True)\n",
    "dfQu6_all.replace(to_replace=['psychology , liberal arts'],value='Psychology Related', inplace=True)\n",
    "dfQu6_all.replace(to_replace=['Child and Family Studies'],value='Psychology Related', inplace=True)\n",
    "dfQu6_all.replace(to_replace=['Human Resources/ Psychology'],value='Psychology Related', inplace=True)\n",
    "dfQu6_all.replace(to_replace=['Music Technology'],value='Art Technology Related', inplace=True)\n",
    "dfQu6_all.replace(to_replace=['Musical Theatre'],value='Arts Related', inplace=True)\n",
    "dfQu6_all.replace(to_replace=['Music recording'],value='Arts Related', inplace=True)\n",
    "dfQu6_all.replace(to_replace=['Theatre Technology'],value='Art Technology Related', inplace=True)\n",
    "dfQu6_all.replace(to_replace=['Broadcasting Arts and Technology'],value='Art Technology Related', inplace=True)\n",
    "\n",
    "dfQu6_all.replace(to_replace=['liberal arts'],value='Liberal Arts', inplace=True)\n",
    "dfQu6_all.replace(to_replace=['Liberal Arts and Sciences'],value='Liberal Arts', inplace=True)\n",
    "dfQu6_all.replace(to_replace=['humanities'],value='Liberal Arts', inplace=True)\n",
    "dfQu6_all.replace(to_replace=['Liberal Arts & Sciences'],value='Liberal Arts', inplace=True)\n",
    "\n",
    "dfQu6_all.replace(to_replace=[' want to go into radiography'],value='Radiography', inplace=True)\n",
    "\n",
    "dfQu6_all.replace(to_replace=['Broadcasting Arts and Technology'],value='Art Technology Related', inplace=True)"
   ]
  },
  {
   "cell_type": "code",
   "execution_count": null,
   "id": "21c2f7c6-f6a6-4dde-a1e6-c8875fba4f13",
   "metadata": {},
   "outputs": [],
   "source": [
    "# Using 20  which might be a little high but I need to get to the charts!!\n",
    "# got some help for this \n",
    "value_counts = dfQu6_all['degree_program'].value_counts()\n",
    "\n",
    "replace_dict = value_counts[value_counts < 20].to_dict()\n",
    "replace_dict = {k: 'Other' for k in replace_dict.keys()}\n",
    "\n",
    "dfQu6_all['degree_program'] = dfQu6_all['degree_program'].replace(replace_dict)"
   ]
  },
  {
   "cell_type": "code",
   "execution_count": null,
   "id": "41edb524-35fa-4d01-88d4-2a10dd264df1",
   "metadata": {},
   "outputs": [],
   "source": [
    "dfQu6_all[\"degree_program\"].value_counts()"
   ]
  },
  {
   "cell_type": "markdown",
   "id": "9ab458e1-7b38-4643-bfe9-c63a5353f458",
   "metadata": {},
   "source": [
    "Decided not to consolidate into other\n",
    "\n",
    "dfQu1_all.replace(to_replace=['Prefer not to say'],value='Other', inplace=True)\n",
    "dfQu1_all.replace(to_replace=['Non-binary'],value='Other', inplace=True)\n",
    "dfQu1_all.replace(to_replace=['I do not identify'],value='Other', inplace=True)"
   ]
  },
  {
   "cell_type": "code",
   "execution_count": null,
   "id": "528f2e70-197b-4489-9379-224d6811288d",
   "metadata": {},
   "outputs": [],
   "source": [
    "# includes all years so inflated - need to groupby and agg by year\n",
    "dfQu6_all[\"gender\"].value_counts()"
   ]
  },
  {
   "cell_type": "markdown",
   "id": "b6ce17eb-a594-49ce-a993-bb415ac4d18c",
   "metadata": {},
   "source": [
    "Save files in case useful for reference and debugging"
   ]
  },
  {
   "cell_type": "code",
   "execution_count": null,
   "id": "e2c0a12a-bf85-4405-909a-651006c93d42",
   "metadata": {},
   "outputs": [],
   "source": [
    "dfQu1_all.to_csv('Qu1_all.csv')\n",
    "dfQu3_all.to_csv('Qu3_all.csv')\n",
    "dfQu4_all.to_csv('Qu4_all.csv')\n",
    "dfQu6_all.to_csv('Qu6_all.csv')"
   ]
  },
  {
   "cell_type": "markdown",
   "id": "e5b88340-ecdc-4505-8ce2-ff149be13c54",
   "metadata": {},
   "source": [
    "TAKE A PAUSE BEFORE CREATING SERIES AND DATA TO USE IN PLOTS"
   ]
  },
  {
   "cell_type": "markdown",
   "id": "8b916a1d-ccf2-4e63-a7fd-ccd397afbfeb",
   "metadata": {},
   "source": []
  },
  {
   "cell_type": "code",
   "execution_count": null,
   "id": "4a5d003b-3ebb-41e8-9696-f26944db57e5",
   "metadata": {},
   "outputs": [],
   "source": [
    "dfrace1g = dfQu6_all.groupby(['year', 'race'], as_index=False).count()"
   ]
  },
  {
   "cell_type": "code",
   "execution_count": null,
   "id": "e9a7a482-2af9-494c-8532-19386cc99340",
   "metadata": {},
   "outputs": [],
   "source": [
    "dfrace1g"
   ]
  },
  {
   "cell_type": "code",
   "execution_count": null,
   "id": "73258a17-6b45-43e7-9429-4566e6c678bf",
   "metadata": {},
   "outputs": [],
   "source": [
    "dfrace1g = dfrace1g[['year', 'race', 'age']]"
   ]
  },
  {
   "cell_type": "code",
   "execution_count": null,
   "id": "069deeb2-045e-4cc3-a042-92ed09ea2dae",
   "metadata": {},
   "outputs": [],
   "source": [
    "dfrace1gp = dfrace1g.pivot(index='year', columns='race', values='age')"
   ]
  },
  {
   "cell_type": "code",
   "execution_count": null,
   "id": "4b8ba6f0-28c0-4635-b141-0d286a914b98",
   "metadata": {},
   "outputs": [],
   "source": [
    "dfrace1gp"
   ]
  },
  {
   "cell_type": "code",
   "execution_count": null,
   "id": "4c0ffeed-7d5c-4680-8967-f24b52fffc61",
   "metadata": {},
   "outputs": [],
   "source": [
    "dfrace1gp.plot(kind='bar')"
   ]
  },
  {
   "cell_type": "code",
   "execution_count": null,
   "id": "5cf38e55-9056-499e-96a0-4b27d1dc7562",
   "metadata": {},
   "outputs": [],
   "source": [
    "dfrace1gp.plot(xlabel='year', kind='bar', stacked=True)"
   ]
  },
  {
   "cell_type": "code",
   "execution_count": null,
   "id": "b327c6c2-612d-47de-9773-082280e62386",
   "metadata": {},
   "outputs": [],
   "source": [
    "dfrace1gp.plot(xlabel='race', kind='bar', stacked=True)"
   ]
  },
  {
   "cell_type": "markdown",
   "id": "410ab15e-a426-49a1-93f8-6c0d5854b209",
   "metadata": {},
   "source": [
    "The large number of women in 2020 looks like an outlier"
   ]
  },
  {
   "cell_type": "code",
   "execution_count": null,
   "id": "1db4e1ed-70ed-468b-b07f-d9102a1d96d2",
   "metadata": {},
   "outputs": [],
   "source": [
    "dfrace1gps = dfrace1gp.apply(lambda x: x*100/sum(x), axis=1)\n",
    "dfrace1gps.plot(kind=\"bar\", stacked=True).legend(loc='upper left', title=False)\n",
    "plt.title(\"Proportional Composition of students by Race each year\")\n",
    "plt.xlabel(\"Race/ethnicity\")\n",
    "plt.ylabel(\"Count (%)\")"
   ]
  },
  {
   "cell_type": "code",
   "execution_count": null,
   "id": "f77eca78-96d9-4eab-9a8f-475ba5a598c0",
   "metadata": {},
   "outputs": [],
   "source": [
    "Above chart shows increasing multi-racial and hispanic populations"
   ]
  },
  {
   "cell_type": "markdown",
   "id": "7056af29-99e1-47b9-b09f-2eaca7bee717",
   "metadata": {},
   "source": [
    "Question 4 answers"
   ]
  },
  {
   "cell_type": "code",
   "execution_count": null,
   "id": "943c2f60-f02c-4c6f-85d0-dc5cf6571f07",
   "metadata": {},
   "outputs": [],
   "source": [
    "dfQu4a = dfQu4_all[['prior_acty_open_house', 'prior_acty_instant_decision_day', 'prior_acty_on-campus_info_session',\n",
    "                                'prior_acty_Titans_Tuesday_virtual', 'prior_acty_Women_Who_Dare','prior_acty_regional_college_fair']]"
   ]
  },
  {
   "cell_type": "code",
   "execution_count": null,
   "id": "5c7c7cd8-3218-41d8-afef-4623f1093858",
   "metadata": {},
   "outputs": [],
   "source": [
    "dfQu4am = dfQu4a.melt(var_name='answer', value_name='count')"
   ]
  },
  {
   "cell_type": "code",
   "execution_count": null,
   "id": "489c09d4-885c-4285-b663-968e128dcb77",
   "metadata": {},
   "outputs": [],
   "source": [
    "dfQu4am"
   ]
  },
  {
   "cell_type": "code",
   "execution_count": null,
   "id": "aefcd659-0e8a-44a2-8fc5-e3802f59311d",
   "metadata": {},
   "outputs": [],
   "source": [
    "dfQu4s = dfQu4am.groupby(['answer'], as_index=False).sum()"
   ]
  },
  {
   "cell_type": "code",
   "execution_count": null,
   "id": "b34b3db4-a13a-40cd-aefd-2fe6f3d0c9d0",
   "metadata": {},
   "outputs": [],
   "source": [
    "dfQu4ss = dfQu4am.groupby(['answer']).sum()"
   ]
  },
  {
   "cell_type": "code",
   "execution_count": null,
   "id": "62006cd5-6545-4b63-ba7b-203c93809d75",
   "metadata": {},
   "outputs": [],
   "source": [
    "dfQu4s"
   ]
  },
  {
   "cell_type": "code",
   "execution_count": null,
   "id": "14998eee-8ae8-488b-b518-bd56a25c8e03",
   "metadata": {},
   "outputs": [],
   "source": [
    "print(dfQu4s.sort_values(by='count', ascending=False))"
   ]
  },
  {
   "cell_type": "code",
   "execution_count": null,
   "id": "ef4e31fe-e15c-44bc-991b-404e95730b6b",
   "metadata": {},
   "outputs": [],
   "source": [
    "dfQu4ss"
   ]
  },
  {
   "cell_type": "code",
   "execution_count": null,
   "id": "d3817957-1a12-4c00-9342-5eb18f0eb6ca",
   "metadata": {},
   "outputs": [],
   "source": [
    "dfQu4ss.plot(kind='barh')"
   ]
  },
  {
   "cell_type": "markdown",
   "id": "4623d32e-a510-4abd-a59d-ec60783a5dc0",
   "metadata": {},
   "source": [
    "The open house was the most effective prior activity followed closely by an on campus information session which sounds similar to an open house"
   ]
  },
  {
   "cell_type": "markdown",
   "id": "3c532b7d-da86-4db4-84b9-0934fdb1a829",
   "metadata": {},
   "source": [
    "Question 1 answers"
   ]
  },
  {
   "cell_type": "code",
   "execution_count": null,
   "id": "46835e3a-6d2c-4405-b4c8-d1715e618bcf",
   "metadata": {},
   "outputs": [],
   "source": [
    "dfQu1_all.columns"
   ]
  },
  {
   "cell_type": "code",
   "execution_count": null,
   "id": "dbeaa4ec-be9f-44a0-8d55-4a86bfe917a0",
   "metadata": {},
   "outputs": [],
   "source": [
    "dfQu1a = dfQu1_all[['recd_hs_counselor', 'recd_CCM_info_tech_website',\n",
    "       'recd_CCM_admissions', 'recd_CCM_advisor', 'recd_employer',\n",
    "       'recd_other']]"
   ]
  },
  {
   "cell_type": "code",
   "execution_count": null,
   "id": "dcadc49d-677d-4bfa-ba8e-6366fc1db5c2",
   "metadata": {},
   "outputs": [],
   "source": [
    "dfQu1am = dfQu1a.melt(var_name='answer', value_name='count')"
   ]
  },
  {
   "cell_type": "code",
   "execution_count": null,
   "id": "ad7042be-01a4-4563-b1e6-a55da17161dc",
   "metadata": {},
   "outputs": [],
   "source": [
    "dfQu1s = dfQu1am.groupby(['answer'], as_index=False).sum()"
   ]
  },
  {
   "cell_type": "code",
   "execution_count": null,
   "id": "efd53606-f3d3-46d4-81e5-fbfe1d86aca4",
   "metadata": {},
   "outputs": [],
   "source": [
    "print(dfQu1s.sort_values(by='count', ascending=False))"
   ]
  },
  {
   "cell_type": "markdown",
   "id": "b639c0c0-848c-43bd-9ab2-4455b46a4953",
   "metadata": {},
   "source": [
    "These are the total responses by type of material on computing classes received prior to joining college"
   ]
  },
  {
   "cell_type": "code",
   "execution_count": null,
   "id": "27dccc2b-bdab-4739-87fd-f43ed52e9b0b",
   "metadata": {},
   "outputs": [],
   "source": [
    "dfQu1b = dfQu1_all[['race', 'recd_hs_counselor', 'recd_CCM_info_tech_website',\n",
    "       'recd_CCM_admissions', 'recd_CCM_advisor', 'recd_employer',\n",
    "       'recd_other']].groupby('race').sum()"
   ]
  },
  {
   "cell_type": "code",
   "execution_count": null,
   "id": "0ae286cc-53c2-4216-bc93-1db5053dd151",
   "metadata": {},
   "outputs": [],
   "source": [
    "dfQu1b"
   ]
  },
  {
   "cell_type": "markdown",
   "id": "e9b3c4e0-5654-4b0e-ae2a-b4d7753a3e09",
   "metadata": {},
   "source": [
    "Show answers broken down by Race/ethnicity for computing information received prior to college"
   ]
  },
  {
   "cell_type": "code",
   "execution_count": null,
   "id": "d32bcdab-d089-4238-9cac-819f4b255f73",
   "metadata": {},
   "outputs": [],
   "source": [
    "Question 3 answers"
   ]
  },
  {
   "cell_type": "code",
   "execution_count": null,
   "id": "21a20083-b268-46f9-a8ed-0e31b1e493aa",
   "metadata": {},
   "outputs": [],
   "source": [
    "dfQu3_all[\"cmp_interest\"] = dfQu3_all[\"cmp_interest\"].astype(str)   # change to string so I can use as a category"
   ]
  },
  {
   "cell_type": "code",
   "execution_count": null,
   "id": "bd0ff7bb-f2b0-415d-bdbd-473ccbf5c0b3",
   "metadata": {},
   "outputs": [],
   "source": [
    "dfQu3_all.info()"
   ]
  },
  {
   "cell_type": "code",
   "execution_count": null,
   "id": "048f7e0a-60c0-4868-b2a4-ccd1d25356b0",
   "metadata": {},
   "outputs": [],
   "source": [
    "dfQu3b = dfQu3_all[['cmp_interest', 'required_class',\n",
    "       'motive_keep_current_skills', 'motive_career_advancement',\n",
    "       'motive_career_change', 'motive_prof_development',\n",
    "       'motive_job_displacement', 'motive_relocation',\n",
    "       'motive_IT_certifications', 'motive_financial',\n",
    "       'motive_personal_enrichment', 'motive_curiosity']].groupby('cmp_interest').sum()"
   ]
  },
  {
   "cell_type": "code",
   "execution_count": null,
   "id": "43f071f9-8e68-4d3c-a51e-6e7fc76aca81",
   "metadata": {},
   "outputs": [],
   "source": [
    "dfQu3b"
   ]
  },
  {
   "cell_type": "code",
   "execution_count": null,
   "id": "5bf654ab-667a-4cfa-818c-d09c17efc395",
   "metadata": {},
   "outputs": [],
   "source": [
    "While a computing class being required was the top motivation, there were other motivations were significant, both related to\n",
    "future career and also personal feelings."
   ]
  },
  {
   "cell_type": "code",
   "execution_count": null,
   "id": "f5d935c1-d3f8-4af3-bb8f-5839b6639b27",
   "metadata": {},
   "outputs": [],
   "source": [
    "dfQu3b.plot()"
   ]
  },
  {
   "cell_type": "markdown",
   "id": "a8f08498-2c7a-42ad-a2e5-c450121b8af9",
   "metadata": {},
   "source": [
    "LIne plot is too cluttered"
   ]
  },
  {
   "cell_type": "code",
   "execution_count": null,
   "id": "5b8229f2-dc89-43a2-9627-e6e25cec8bf1",
   "metadata": {},
   "outputs": [],
   "source": [
    "dfQu3a = dfQu3_all[['required_class',\n",
    "       'motive_keep_current_skills', 'motive_career_advancement',\n",
    "       'motive_career_change', 'motive_prof_development',\n",
    "       'motive_job_displacement', 'motive_relocation',\n",
    "       'motive_IT_certifications', 'motive_financial',\n",
    "       'motive_personal_enrichment', 'motive_curiosity']]"
   ]
  },
  {
   "cell_type": "code",
   "execution_count": null,
   "id": "9f4d1880-e322-48db-b5de-819ee6a65174",
   "metadata": {},
   "outputs": [],
   "source": [
    "dfQu3am = dfQu3a.melt(var_name='answer', value_name='count')"
   ]
  },
  {
   "cell_type": "code",
   "execution_count": null,
   "id": "01259663-6574-4c4e-bf88-23ffbfe86f2f",
   "metadata": {},
   "outputs": [],
   "source": [
    "dfQu3s = dfQu3am.groupby(['answer']).sum()"
   ]
  },
  {
   "cell_type": "code",
   "execution_count": null,
   "id": "1a2c508f-a01a-40de-a18a-fd962b3821b3",
   "metadata": {},
   "outputs": [],
   "source": [
    "print(dfQu3s.sort_values(by='count', ascending=False))"
   ]
  },
  {
   "cell_type": "markdown",
   "id": "52da99d0-f0bf-411b-8d21-e08108782b01",
   "metadata": {},
   "source": [
    "Shows relative importance of motivation, I do not see any correlation with the level of interest "
   ]
  },
  {
   "cell_type": "code",
   "execution_count": null,
   "id": "9442bdca-72b7-487d-8381-d1facbd4702e",
   "metadata": {},
   "outputs": [],
   "source": [
    "dfQu3s.plot(kind='barh')"
   ]
  },
  {
   "cell_type": "code",
   "execution_count": null,
   "id": "3d1d4c85-5762-4207-8769-02d7b0321be8",
   "metadata": {},
   "outputs": [],
   "source": [
    "dfQu3b.plot(xlabel='cmp_interest', kind='barh', stacked=True)"
   ]
  },
  {
   "cell_type": "markdown",
   "id": "31728bab-afa5-4090-9a47-e36fc276e2c7",
   "metadata": {},
   "source": [
    "Last one is busy need to be able to get legend out of chart"
   ]
  }
 ],
 "metadata": {
  "kernelspec": {
   "display_name": "Python 3 (ipykernel)",
   "language": "python",
   "name": "python3"
  },
  "language_info": {
   "codemirror_mode": {
    "name": "ipython",
    "version": 3
   },
   "file_extension": ".py",
   "mimetype": "text/x-python",
   "name": "python",
   "nbconvert_exporter": "python",
   "pygments_lexer": "ipython3",
   "version": "3.12.3"
  }
 },
 "nbformat": 4,
 "nbformat_minor": 5
}
